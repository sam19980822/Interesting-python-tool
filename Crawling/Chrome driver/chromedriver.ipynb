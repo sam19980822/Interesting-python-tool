{
 "cells": [
  {
   "cell_type": "code",
   "execution_count": 44,
   "metadata": {
    "ExecuteTime": {
     "end_time": "2020-05-21T17:52:26.709249Z",
     "start_time": "2020-05-21T17:52:26.702231Z"
    }
   },
   "outputs": [],
   "source": [
    "from selenium import  webdriver\n",
    "from selenium.webdriver.chrome.options import Options\n",
    "from bs4 import BeautifulSoup\n",
    "import config\n",
    "from selenium.webdriver.common.keys import Keys\n",
    "import time\n",
    "\n",
    "options = Options()\n",
    "options.add_argument(\"--disable-notifications\")\n"
   ]
  },
  {
   "cell_type": "code",
   "execution_count": 47,
   "metadata": {
    "ExecuteTime": {
     "end_time": "2020-05-21T17:53:56.780959Z",
     "start_time": "2020-05-21T17:53:40.892650Z"
    }
   },
   "outputs": [
    {
     "name": "stderr",
     "output_type": "stream",
     "text": [
      "/Users/liaoshousan/opt/anaconda3/lib/python3.7/site-packages/ipykernel_launcher.py:1: DeprecationWarning: use options instead of chrome_options\n",
      "  \"\"\"Entry point for launching an IPython kernel.\n"
     ]
    }
   ],
   "source": [
    "chrome = webdriver.Chrome('/Users/liaoshousan/Desktop/chromedriver',chrome_options=options)\n",
    "chrome.get(\"https://www.facebook.com\")\n",
    "# 載點：https://sites.google.com/a/chromium.org/chromedriver/downloads"
   ]
  },
  {
   "cell_type": "code",
   "execution_count": 48,
   "metadata": {
    "ExecuteTime": {
     "end_time": "2020-05-21T17:54:30.259976Z",
     "start_time": "2020-05-21T17:53:58.222656Z"
    }
   },
   "outputs": [],
   "source": [
    "Myemail = '' # type your facebook register email\n",
    "Mypwd = '' # type the password\n",
    "\n",
    "chrome.find_element_by_id(\"email\").send_keys(Myemail)\n",
    "chrome.find_element_by_id(\"pass\").send_keys(Mypwd)\n",
    "chrome.find_element_by_id(\"pass\").send_keys(Keys.ENTER)\n",
    "time.sleep(3) # 載入網頁時等待三秒 讓程式碼load差不多再執行\n",
    "chrome.get('https://www.facebook.com/learncodewithmike')\n",
    "for x in range(1,4):\n",
    "    chrome.execute_script(\"window.scrollTo(0,document.body.scrollHeight)\")\n",
    "    time.sleep(5)\n",
    "soup = BeautifulSoup(chrome.page_source,'html.parser')\n"
   ]
  },
  {
   "cell_type": "code",
   "execution_count": 37,
   "metadata": {
    "ExecuteTime": {
     "end_time": "2020-05-21T17:50:06.835570Z",
     "start_time": "2020-05-21T17:50:05.952705Z"
    }
   },
   "outputs": [],
   "source": [
    "titles = soup.findall('aria-label',{'class':'_52c6'})\n",
    "for title in titles:\n",
    "    print(title)\n",
    "\n"
   ]
  },
  {
   "cell_type": "code",
   "execution_count": 53,
   "metadata": {
    "ExecuteTime": {
     "end_time": "2020-05-21T17:56:37.133803Z",
     "start_time": "2020-05-21T17:56:37.115856Z"
    }
   },
   "outputs": [
    {
     "name": "stdout",
     "output_type": "stream",
     "text": [
      "大家週末愉快☀️☀️ 使用Django進行網站開發時，多少都有機會讓使用者上傳檔案的功能，這時候就可以整合Amazon S3服務，提升靜態檔案的儲存彈性，今天就來和大家分享整合的過程。🤠\n",
      " 如果大家有不錯的雲端服務整合經驗，也歡迎留言和我分享唷👍👍 https://www.learncodewithmike.com/2020/05/django-aws-s3.html\n",
      "相信各位在使用各大網站時，都有收過各式各樣的電子郵件，而這樣的功能在使用Python進行網站開發時，該如何實作呢? 今天就來和大家分享，希望大家會喜歡😎😎 https://www.learncodewithmike.com/…/…/django-send-email.html\n",
      "在Django框架中該如何連接不同的資料庫呢?今天就以PostgreSQL資料庫為例來和大家進行分享。\n",
      " 另外想瞭解大家在實務上都使用哪家資料庫呢~😉\n",
      " https://www.learncodewithmike.com/…/…/django-postgresql.html\n",
      "今天幫大家整理5個常用的Django檢視類別，將檢視函式(View Function)封裝成類別，來提升Django專案的維護性。歡迎指教 & 分享🥳🥳\n",
      " https://www.learncodewithmike.com/…/django-class-based-view…\n",
      "今天來和大家分享在使用Python進行網站開發時，利用強大的Django Allauth套件整合第三方登入驗證的方式，除了簡潔好用外，也提升開發效率，希望能幫助到大家。🤗🤗\n",
      " https://www.learncodewithmike.com/…/django-allauth-google.h…\n",
      "Django tastypie套件是讓開發人員能夠使用Python，來快速建置RESTful API，非常的簡潔且容易使用，所以受到歡迎，今天就來分享它的使用方式，希望大家會喜歡。\n",
      " 另外，大家都如何使用Python來開發API呢? 歡迎留言和我分享唷👍👍\n",
      " https://www.learncodewithmike.com/20…/…/django-tastypie.html\n",
      "Heroku是一個支援多種程式語言，並且非常受歡迎的免費雲端平台，而有許多開發人員，也會將網站服務或作品集，放置在上面運行。所以今天就撰寫了一篇部署Django網站到Heroku雲端平台的過程，希望有幫助到大家。 　　 如果大家有不錯的雲端平台部署經驗，或是對於部落格文章有任何的建議，也都非常歡迎留言和我分享唷💪💪\n",
      " https://www.learncodewithmike.com/2020/04/django-heroku.html\n",
      "大家週末愉快： 今天來和各位分享，在使用Python開發網站時，如何客製化表單欄位驗證的技巧，歡迎指教 & 分享😉\n",
      " https://www.learncodewithmike.com/…/django-custom-form-fiel…\n",
      "感謝大家的支持，粉絲專頁達到300個讚，未來會持續的努力，分享更多優質的Python教學文章👍👍\n",
      "現在有許多知名網站，如Instagram及Pinterest等，都以圖片的形式來傳遞訊息，也深受大眾喜愛，所以今天就來和大家分享，利用6個步驟來實作一個圖片牆網站，藉此來瞭解Django上傳圖片的功能。歡迎指教 & 分享。🥳🥳\n",
      " https://www.learncodewithmike.com/…/django-image-upload.html\n",
      "因應全球疫情，許多線上課程網站紛紛推出了免費的活動，這邊跟大家分享 #Pluralsight 推出了「四月免費」的活動，只要註冊，就可以在四月免費觀看7000+的課程，當然包含Python、Machine Learning及Data Science等，大家快手刀衝了阿~🏃‍♂️🏃‍♂️ 　　 除此之外，也可以參考我的「Python學習資源整理」部落格文章(https://www.learncodewithmike.com/…/02/python3-learning.html)，來選擇所需的學習資源唷。 　　 https://pluralsight.com/\n",
      "大家連假愉快阿：\n",
      " 今天來和大家分享，如何利用Python的Django框架，來實作多數網站所具備的登入驗證及註冊功能，希望能幫助正在學習Django的朋友們，瞭解其運作的方式。歡迎指教 & 分享😉\n",
      " https://www.learncodewithmike.com/…/django-authentication-a…\n",
      "在網站的開發中，很多時候都會使用到表單的操作，今天就來和大家分享Python的Django框架所提供的ModelForm表單開發方式，來快速的建立具有CRUD功能的記帳網站，透過實作來瞭解其運作方式，歡迎指教 & 分享💪\n",
      " https://www.learncodewithmike.com/…/03/django-modelform.html\n",
      "哈囉 大家好：\n",
      " PIXNET痞客幫為一個部落格類型的網站，其中包含了許多知名部落客所撰寫的經典文章，像是美食、旅遊、親子及美妝等，所以今天要來分享如何在Django框架中呼叫PIXNET痞客幫所提供的Open Data API資源，並且整合Bootstrap框架，設計出像Instagram的板型，顯示PIXNET部落格文章的資訊，希望大家會喜歡。👍\n",
      " 歡迎指教 & 分享🥳\n",
      " https://www.learncodewithmike.com/…/03/django-bootstrap.html\n"
     ]
    }
   ],
   "source": [
    "ps = soup.find_all('p')\n",
    "for p in ps:\n",
    "    print(p.text)"
   ]
  },
  {
   "cell_type": "code",
   "execution_count": 54,
   "metadata": {
    "ExecuteTime": {
     "end_time": "2020-05-21T17:56:59.058207Z",
     "start_time": "2020-05-21T17:56:58.753538Z"
    }
   },
   "outputs": [],
   "source": [
    "chrome.quit()\n",
    "# chrome.save_screenshot('test.png') 沒用到的功能\n"
   ]
  },
  {
   "cell_type": "markdown",
   "metadata": {},
   "source": [
    "Reference\n",
    "- https://freelancerlife.info/zh/blog/python%E7%B6%B2%E8%B7%AF%E7%88%AC%E8%9F%B2%E6%95%99%E5%AD%B8-selenium%E5%9F%BA%E6%9C%AC%E6%93%8D%E4%BD%9C/  \n",
    "- https://selenium-python.readthedocs.io/locating-elements.html  \n",
    "- https://www.facebook.com/happytocoding/videos/1129799444055443/UzpfSTEwMDAwMTg2NjQwMTY3NzoxNTc2MTIwNTA1ODg4OTAx/  "
   ]
  },
  {
   "cell_type": "code",
   "execution_count": null,
   "metadata": {},
   "outputs": [],
   "source": []
  }
 ],
 "metadata": {
  "hide_input": false,
  "kernelspec": {
   "display_name": "Python 3",
   "language": "python",
   "name": "python3"
  },
  "language_info": {
   "codemirror_mode": {
    "name": "ipython",
    "version": 3
   },
   "file_extension": ".py",
   "mimetype": "text/x-python",
   "name": "python",
   "nbconvert_exporter": "python",
   "pygments_lexer": "ipython3",
   "version": "3.6.3"
  },
  "toc": {
   "base_numbering": 1,
   "nav_menu": {},
   "number_sections": true,
   "sideBar": true,
   "skip_h1_title": false,
   "title_cell": "Table of Contents",
   "title_sidebar": "Contents",
   "toc_cell": false,
   "toc_position": {},
   "toc_section_display": true,
   "toc_window_display": false
  },
  "varInspector": {
   "cols": {
    "lenName": 16,
    "lenType": 16,
    "lenVar": 40
   },
   "kernels_config": {
    "python": {
     "delete_cmd_postfix": "",
     "delete_cmd_prefix": "del ",
     "library": "var_list.py",
     "varRefreshCmd": "print(var_dic_list())"
    },
    "r": {
     "delete_cmd_postfix": ") ",
     "delete_cmd_prefix": "rm(",
     "library": "var_list.r",
     "varRefreshCmd": "cat(var_dic_list()) "
    }
   },
   "types_to_exclude": [
    "module",
    "function",
    "builtin_function_or_method",
    "instance",
    "_Feature"
   ],
   "window_display": false
  }
 },
 "nbformat": 4,
 "nbformat_minor": 2
}
