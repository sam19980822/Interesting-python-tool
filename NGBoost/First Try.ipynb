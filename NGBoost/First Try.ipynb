{
 "cells": [
  {
   "cell_type": "code",
   "execution_count": 42,
   "metadata": {},
   "outputs": [
    {
     "name": "stdout",
     "output_type": "stream",
     "text": [
      "[iter 0] loss=0.6683 val_loss=0.0000 scale=8.0000 norm=3.8029\n",
      "[iter 100] loss=0.0462 val_loss=0.0000 scale=64.0000 norm=2.8212\n",
      "[iter 200] loss=0.0080 val_loss=0.0000 scale=256.0000 norm=2.0336\n",
      "[iter 300] loss=0.0019 val_loss=0.0000 scale=1024.0000 norm=1.9899\n",
      "[iter 400] loss=0.0005 val_loss=0.0000 scale=4096.0000 norm=1.9690\n",
      "== Quitting at iteration / GRAD 477\n",
      "ROC: 0.9974683544303797\n"
     ]
    }
   ],
   "source": [
    "from ngboost import NGBClassifier\n",
    "from ngboost.distns import Bernoulli\n",
    "from ngboost.distns import Normal\n",
    "from ngboost.distns import multivariate_normal\n",
    "from ngboost.learners import default_tree_learner\n",
    "from ngboost.scores import MLE\n",
    "from ngboost.scores import CRPS\n",
    "\n",
    "from sklearn.datasets import load_breast_cancer\n",
    "from sklearn.model_selection import train_test_split\n",
    "from sklearn.metrics import roc_auc_score\n",
    "\n",
    "\n",
    "if __name__ == \"__main__\":\n",
    "\n",
    "    X, Y = load_breast_cancer(True)\n",
    "    X_train, X_test, Y_train, Y_test = train_test_split(X, Y, test_size=0.2)\n",
    "\n",
    "    ngb = NGBClassifier(Base=default_tree_learner,Score=MLE, verbose=True) #,Dist = Bernoulli\n",
    "    ngb.fit(X_train, Y_train)\n",
    "\n",
    "#     Y_preds = ngb.predict(X_test)\n",
    "    preds = ngb.pred_dist(X_test)\n",
    "    print(\"ROC:\", roc_auc_score(Y_test, preds.prob))"
   ]
  },
  {
   "cell_type": "code",
   "execution_count": 50,
   "metadata": {},
   "outputs": [],
   "source": [
    "import pandas as pd\n",
    "iris = pd.read_csv('/Users/liaoshousan/Downloads/Iris.csv')"
   ]
  },
  {
   "cell_type": "code",
   "execution_count": 52,
   "metadata": {},
   "outputs": [],
   "source": [
    "iris = iris.drop(columns =['Id'])"
   ]
  },
  {
   "cell_type": "code",
   "execution_count": 65,
   "metadata": {},
   "outputs": [],
   "source": [
    "iris['Species'] = le.fit_transform(iris['Species'])\n",
    "iris['Species'] = iris['Species'].apply(lambda x: 1 if x==2 else 0 )"
   ]
  },
  {
   "cell_type": "code",
   "execution_count": 66,
   "metadata": {},
   "outputs": [],
   "source": [
    "X = iris.drop(columns = ['Species'])\n",
    "y = iris['Species']"
   ]
  },
  {
   "cell_type": "code",
   "execution_count": 43,
   "metadata": {},
   "outputs": [],
   "source": [
    "from sklearn import preprocessing\n",
    "from sklearn.preprocessing import StandardScaler\n",
    "ss = StandardScaler()\n",
    "X = ss.fit_transform(X = iris.drop(columns = ['Species']))\n",
    "le = preprocessing.LabelEncoder()\n",
    "iris['Species'] = le.fit_transform(iris['Species'])\n",
    "y = iris['Species']\n"
   ]
  },
  {
   "cell_type": "code",
   "execution_count": 69,
   "metadata": {},
   "outputs": [
    {
     "name": "stdout",
     "output_type": "stream",
     "text": [
      "[iter 0] loss=0.6365 val_loss=0.0000 scale=8.0000 norm=3.5556\n",
      "[iter 100] loss=0.0279 val_loss=0.0000 scale=128.0000 norm=3.5090\n",
      "[iter 200] loss=0.0017 val_loss=0.0000 scale=2048.0000 norm=3.4848\n",
      "== Quitting at iteration / GRAD 284\n",
      "ROC: 1.0\n"
     ]
    }
   ],
   "source": [
    "from sklearn.model_selection import train_test_split\n",
    "X_train, X_test, Y_train, Y_test = train_test_split(X,y,test_size=0.2)\n",
    "ngb = NGBClassifier(Base=default_tree_learner,Dist = Bernoulli,Score=MLE, verbose=True) \n",
    "ngb.fit(iris.drop(columns = ['Species']), iris['Species'])\n",
    "\n",
    "    # # # #     Y_preds = ngb.predict(X_test)\n",
    "preds = ngb.pred_dist(X_test)\n",
    "print(\"ROC:\", roc_auc_score(Y_test, preds.prob))\n",
    "\n"
   ]
  },
  {
   "cell_type": "code",
   "execution_count": 70,
   "metadata": {},
   "outputs": [
    {
     "data": {
      "text/plain": [
       "array([2.21816087e-04, 2.21816087e-04, 9.99799279e-01, 9.99257344e-01,\n",
       "       2.21816087e-04, 9.99708833e-01, 2.21816087e-04, 9.99785454e-01,\n",
       "       2.21816087e-04, 2.21816087e-04, 2.21816087e-04, 9.99801156e-01,\n",
       "       9.99766698e-01, 9.99801156e-01, 9.99799279e-01, 9.99799279e-01,\n",
       "       4.92036931e-04, 2.21816087e-04, 2.21816087e-04, 9.99766698e-01,\n",
       "       2.21816087e-04, 9.99766698e-01, 2.21816087e-04, 2.21816087e-04,\n",
       "       9.99799279e-01, 9.99766698e-01, 2.21816087e-04, 2.21816087e-04,\n",
       "       2.21816087e-04, 2.21816087e-04])"
      ]
     },
     "execution_count": 70,
     "metadata": {},
     "output_type": "execute_result"
    }
   ],
   "source": [
    "preds.prob"
   ]
  },
  {
   "cell_type": "code",
   "execution_count": 41,
   "metadata": {},
   "outputs": [
    {
     "data": {
      "text/plain": [
       "index           False\n",
       "Sepal.Length    False\n",
       "Sepal.Width     False\n",
       "Petal.Length    False\n",
       "Petal.Width     False\n",
       "dtype: bool"
      ]
     },
     "execution_count": 41,
     "metadata": {},
     "output_type": "execute_result"
    }
   ],
   "source": [
    "import numpy as np\n",
    "X.isnull().any()\n",
    "\n",
    "# col_mask=df.isnull().any(axis=0) \n"
   ]
  },
  {
   "cell_type": "code",
   "execution_count": 71,
   "metadata": {},
   "outputs": [
    {
     "name": "stdout",
     "output_type": "stream",
     "text": [
      "[iter 0] loss=3.6325 val_loss=0.0000 scale=0.5000 norm=3.3363\n",
      "[iter 100] loss=3.0814 val_loss=0.0000 scale=1.0000 norm=3.8145\n",
      "[iter 200] loss=2.4519 val_loss=0.0000 scale=2.0000 norm=4.1380\n",
      "[iter 300] loss=2.0547 val_loss=0.0000 scale=2.0000 norm=3.2619\n",
      "[iter 400] loss=1.8668 val_loss=0.0000 scale=2.0000 norm=2.9331\n",
      "Test MSE 6.036630808749706\n",
      "Test NLL 2.5572847480031227\n"
     ]
    }
   ],
   "source": [
    "from ngboost import NGBRegressor\n",
    "\n",
    "from sklearn.datasets import load_boston\n",
    "from sklearn.model_selection import train_test_split\n",
    "from sklearn.metrics import mean_squared_error\n",
    "\n",
    "\n",
    "X, Y = load_boston(True)\n",
    "X_train, X_test, Y_train, Y_test = train_test_split(X, Y, test_size=0.2)\n",
    "\n",
    "ngb = NGBRegressor().fit(X_train, Y_train)\n",
    "Y_preds = ngb.predict(X_test)\n",
    "Y_dists = ngb.pred_dist(X_test)\n",
    "\n",
    "# test Mean Squared Error\n",
    "test_MSE = mean_squared_error(Y_preds, Y_test)\n",
    "print('Test MSE', test_MSE)\n",
    "\n",
    "# test Negative Log Likelihood\n",
    "test_NLL = -Y_dists.logpdf(Y_test.flatten()).mean()\n",
    "print('Test NLL', test_NLL)"
   ]
  },
  {
   "cell_type": "code",
   "execution_count": null,
   "metadata": {},
   "outputs": [],
   "source": []
  }
 ],
 "metadata": {
  "kernelspec": {
   "display_name": "Python 3",
   "language": "python",
   "name": "python3"
  },
  "language_info": {
   "codemirror_mode": {
    "name": "ipython",
    "version": 3
   },
   "file_extension": ".py",
   "mimetype": "text/x-python",
   "name": "python",
   "nbconvert_exporter": "python",
   "pygments_lexer": "ipython3",
   "version": "3.7.4"
  }
 },
 "nbformat": 4,
 "nbformat_minor": 2
}
