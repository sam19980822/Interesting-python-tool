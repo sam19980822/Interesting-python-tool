{
 "cells": [
  {
   "cell_type": "code",
   "execution_count": 44,
   "metadata": {},
   "outputs": [
    {
     "name": "stdout",
     "output_type": "stream",
     "text": [
      "[iter 0] loss=0.6631 val_loss=0.0000 scale=8.0000 norm=3.7619\n",
      "[iter 100] loss=0.0469 val_loss=0.0000 scale=64.0000 norm=2.8307\n",
      "[iter 200] loss=0.0074 val_loss=0.0000 scale=256.0000 norm=1.8709\n",
      "[iter 300] loss=0.0018 val_loss=0.0000 scale=1024.0000 norm=1.8297\n",
      "[iter 400] loss=0.0005 val_loss=0.0000 scale=4096.0000 norm=1.8974\n",
      "== Quitting at iteration / GRAD 483\n",
      "ROC: 0.9939189189189189\n"
     ]
    }
   ],
   "source": [
    "from ngboost import NGBClassifier\n",
    "from ngboost.distns import Bernoulli\n",
    "from ngboost.distns import Normal\n",
    "from ngboost.distns import multivariate_normal\n",
    "from ngboost.learners import default_tree_learner\n",
    "from ngboost.scores import MLE\n",
    "from ngboost.scores import CRPS\n",
    "\n",
    "from sklearn.datasets import load_breast_cancer\n",
    "from sklearn.model_selection import train_test_split\n",
    "from sklearn.metrics import roc_auc_score\n",
    "\n",
    "\n",
    "if __name__ == \"__main__\":\n",
    "\n",
    "    X, Y = load_breast_cancer(True)\n",
    "    X_train, X_test, Y_train, Y_test = train_test_split(X, Y, test_size=0.2)\n",
    "\n",
    "    ngb = NGBClassifier(Base=default_tree_learner,Score=MLE, verbose=True) #,Dist = Bernoulli\n",
    "    ngb.fit(X_train, Y_train)\n",
    "\n",
    "#     Y_preds = ngb.predict(X_test)\n",
    "    preds = ngb.pred_dist(X_test)\n",
    "    print(\"ROC:\", roc_auc_score(Y_test, preds.prob))"
   ]
  },
  {
   "cell_type": "code",
   "execution_count": 63,
   "metadata": {},
   "outputs": [],
   "source": [
    "import pandas as pd\n",
    "iris = pd.read_csv('/Users/liaoshousan/Desktop/大四上/資料科學與商業分析/R_files/iris.csv')"
   ]
  },
  {
   "cell_type": "code",
   "execution_count": 66,
   "metadata": {},
   "outputs": [],
   "source": [
    "from sklearn import preprocessing\n",
    "le = preprocessing.LabelEncoder()\n",
    "iris['Species'] = le.fit_transform(iris['Species'])"
   ]
  },
  {
   "cell_type": "code",
   "execution_count": null,
   "metadata": {},
   "outputs": [],
   "source": [
    "X = iris.drop(columns = ['Species'])\n",
    "y = iris['Species']\n",
    "\n",
    "X_train, X_test, Y_train, Y_test = train_test_split(X,y,test_size=0.2)\n",
    "ngb = NGBClassifier(Base=default_tree_learner,Dist = Bernoulli,Score=MLE, verbose=True) #,Dist = Bernoulli\n",
    "ngb.fit(X_train, Y_train)\n",
    "\n",
    "# # #     Y_preds = ngb.predict(X_test)\n",
    "preds = ngb.pred_dist(X_test)\n",
    "\n",
    "print(\"ROC:\", roc_auc_score(Y_test, preds.prob))\n",
    "\n"
   ]
  },
  {
   "cell_type": "code",
   "execution_count": 92,
   "metadata": {},
   "outputs": [
    {
     "name": "stdout",
     "output_type": "stream",
     "text": [
      "<class 'pandas.core.frame.DataFrame'>\n",
      "RangeIndex: 150 entries, 0 to 149\n",
      "Data columns (total 5 columns):\n",
      "Sepal.Length    150 non-null float64\n",
      "Sepal.Width     150 non-null float64\n",
      "Petal.Length    150 non-null float64\n",
      "Petal.Width     150 non-null float64\n",
      "Species         150 non-null int64\n",
      "dtypes: float64(4), int64(1)\n",
      "memory usage: 6.0 KB\n"
     ]
    }
   ],
   "source": [
    "iris.info()"
   ]
  },
  {
   "cell_type": "code",
   "execution_count": null,
   "metadata": {},
   "outputs": [],
   "source": []
  }
 ],
 "metadata": {
  "kernelspec": {
   "display_name": "Python 3",
   "language": "python",
   "name": "python3"
  },
  "language_info": {
   "codemirror_mode": {
    "name": "ipython",
    "version": 3
   },
   "file_extension": ".py",
   "mimetype": "text/x-python",
   "name": "python",
   "nbconvert_exporter": "python",
   "pygments_lexer": "ipython3",
   "version": "3.7.4"
  }
 },
 "nbformat": 4,
 "nbformat_minor": 2
}
