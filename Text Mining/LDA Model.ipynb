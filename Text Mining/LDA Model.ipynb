{
 "cells": [
  {
   "cell_type": "code",
   "execution_count": 60,
   "metadata": {},
   "outputs": [],
   "source": [
    "import pandas as pd\n",
    "import numpy as np\n",
    "\n",
    "# NLTK\n",
    "from nltk.tokenize import RegexpTokenizer\n",
    "from nltk.stem import PorterStemmer\n",
    "from nltk.corpus import stopwords\n",
    "import re\n",
    "\n",
    "# Visualization\n",
    "import matplotlib.pyplot as plt\n",
    "import matplotlib.patches as mpatches\n",
    "import matplotlib\n",
    "%matplotlib inline\n",
    "import seaborn as sns\n",
    "\n",
    "# OS\n",
    "import os\n",
    "\n",
    "# Genism\n",
    "from gensim import corpora, models\n",
    "import pyLDAvis.gensim\n",
    "\n"
   ]
  },
  {
   "cell_type": "code",
   "execution_count": 61,
   "metadata": {},
   "outputs": [],
   "source": [
    "def text_process(text):\n",
    "    if pd.isnull(text):\n",
    "        return []\n",
    "    \n",
    "    tokenizer = RegexpTokenizer(r'\\w+')\n",
    "    text_processed=tokenizer.tokenize(text)\n",
    "\n",
    "    text_processed = [word.lower() for word in text_processed if word.lower() not in stopwords.words('english')]\n",
    "\n",
    "    try:\n",
    "\n",
    "        text_processed.remove('b')\n",
    "\n",
    "    except:\n",
    "\n",
    "        pass\n",
    "\n",
    "    return text_processed\n"
   ]
  },
  {
   "cell_type": "code",
   "execution_count": 62,
   "metadata": {},
   "outputs": [
    {
     "name": "stderr",
     "output_type": "stream",
     "text": [
      "[nltk_data] Downloading package stopwords to\n",
      "[nltk_data]     /Users/liaoshousan/nltk_data...\n",
      "[nltk_data]   Package stopwords is already up-to-date!\n"
     ]
    }
   ],
   "source": [
    "import nltk\n",
    "nltk.download('stopwords')\n",
    "\n",
    "lyrics =['Thought I\\'d end up with Sean But he wasn\\'t a match Wrote some songs about Ricky Now I listen and laugh',\n",
    "         'Even almost got married And for Pete, I\\'m so thankful Wish I could say, \"Thank you\" to Malcolm\\'Cause he was an angel',\n",
    "         'One taught me love One taught me patience And one taught me pain Now, I\\'m so amazing Say',\n",
    "         'I\\'ve loved and I\\'ve lost But that\\'s not what I see So, look what I got']\n",
    "\n",
    "texts = []\n",
    "for i in lyrics:\n",
    "    texts.append(text_process(i))\n",
    "    \n"
   ]
  },
  {
   "cell_type": "code",
   "execution_count": 63,
   "metadata": {},
   "outputs": [],
   "source": [
    "pyLDAvis.enable_notebook()\n",
    "\n",
    "dictionary = corpora.Dictionary(texts)\n",
    "\n",
    "corpus = [dictionary.doc2bow(text) for text in texts]\n",
    "\n",
    "ldamodel = models.ldamodel.LdaModel(corpus, # pass in our corpus\n",
    "\n",
    "id2word = dictionary, # matches each word to its \"number\" or \"spot\" in the dictionary\n",
    "\n",
    "num_topics = 2, # number of topics T to find\n",
    "\n",
    "passes = 5, # number of passes through corpus; similar to number of epochs\n",
    "\n",
    "minimum_probability = 0.01) # only include topics above this probability threshold\n",
    "\n"
   ]
  },
  {
   "cell_type": "code",
   "execution_count": 64,
   "metadata": {},
   "outputs": [
    {
     "name": "stdout",
     "output_type": "stream",
     "text": [
      "[(0,\n",
      "  '0.072*\"got\" + 0.044*\"say\" + 0.043*\"thankful\" + 0.043*\"wish\" + 0.043*\"angel\" '\n",
      "  '+ 0.043*\"even\" + 0.043*\"pete\" + 0.043*\"could\" + 0.043*\"malcolm\" + '\n",
      "  '0.043*\"almost\"'),\n",
      " (1,\n",
      "  '0.095*\"taught\" + 0.095*\"one\" + 0.041*\"say\" + 0.041*\"laugh\" + 0.041*\"sean\" + '\n",
      "  '0.041*\"end\" + 0.041*\"listen\" + 0.041*\"match\" + 0.041*\"wrote\" + '\n",
      "  '0.041*\"thought\"')]\n"
     ]
    }
   ],
   "source": [
    "from pprint import pprint\n",
    "pprint(ldamodel.print_topics())"
   ]
  },
  {
   "cell_type": "code",
   "execution_count": 65,
   "metadata": {},
   "outputs": [
    {
     "name": "stderr",
     "output_type": "stream",
     "text": [
      "/Users/liaoshousan/opt/anaconda3/lib/python3.7/site-packages/pyLDAvis/_prepare.py:257: FutureWarning: Sorting because non-concatenation axis is not aligned. A future version\n",
      "of pandas will change to not sort by default.\n",
      "\n",
      "To accept the future behavior, pass 'sort=False'.\n",
      "\n",
      "To retain the current behavior and silence the warning, pass 'sort=True'.\n",
      "\n",
      "  return pd.concat([default_term_info] + list(topic_dfs))\n"
     ]
    },
    {
     "data": {
      "text/html": [
       "\n",
       "<link rel=\"stylesheet\" type=\"text/css\" href=\"https://cdn.rawgit.com/bmabey/pyLDAvis/files/ldavis.v1.0.0.css\">\n",
       "\n",
       "\n",
       "<div id=\"ldavis_el233451121218292004959682512\"></div>\n",
       "<script type=\"text/javascript\">\n",
       "\n",
       "var ldavis_el233451121218292004959682512_data = {\"mdsDat\": {\"x\": [0.0670156255364418, -0.0670156255364418], \"y\": [0.0, 0.0], \"topics\": [1, 2], \"cluster\": [1, 1], \"Freq\": [52.54673767089844, 47.45326232910156]}, \"tinfo\": {\"Category\": [\"Default\", \"Default\", \"Default\", \"Default\", \"Default\", \"Default\", \"Default\", \"Default\", \"Default\", \"Default\", \"Default\", \"Default\", \"Default\", \"Default\", \"Default\", \"Default\", \"Default\", \"Default\", \"Default\", \"Default\", \"Default\", \"Default\", \"Default\", \"Default\", \"Default\", \"Default\", \"Default\", \"Default\", \"Default\", \"Default\", \"Topic1\", \"Topic1\", \"Topic1\", \"Topic1\", \"Topic1\", \"Topic1\", \"Topic1\", \"Topic1\", \"Topic1\", \"Topic1\", \"Topic1\", \"Topic1\", \"Topic1\", \"Topic1\", \"Topic1\", \"Topic1\", \"Topic1\", \"Topic1\", \"Topic1\", \"Topic1\", \"Topic1\", \"Topic1\", \"Topic1\", \"Topic1\", \"Topic1\", \"Topic1\", \"Topic1\", \"Topic1\", \"Topic1\", \"Topic1\", \"Topic1\", \"Topic2\", \"Topic2\", \"Topic2\", \"Topic2\", \"Topic2\", \"Topic2\", \"Topic2\", \"Topic2\", \"Topic2\", \"Topic2\", \"Topic2\", \"Topic2\", \"Topic2\", \"Topic2\", \"Topic2\", \"Topic2\", \"Topic2\", \"Topic2\", \"Topic2\", \"Topic2\", \"Topic2\", \"Topic2\", \"Topic2\", \"Topic2\", \"Topic2\", \"Topic2\", \"Topic2\", \"Topic2\", \"Topic2\", \"Topic2\", \"Topic2\", \"Topic2\"], \"Freq\": [2.0, 2.0, 1.0, 1.0, 1.0, 1.0, 1.0, 1.0, 1.0, 1.0, 1.0, 1.0, 1.0, 1.0, 1.0, 1.0, 1.0, 1.0, 1.0, 1.0, 1.0, 1.0, 1.0, 1.0, 1.0, 1.0, 1.0, 1.0, 1.0, 1.0, 1.8981035947799683, 1.8912514448165894, 0.823840320110321, 0.8235976099967957, 0.823106050491333, 0.8229249119758606, 0.8212563991546631, 0.821196973323822, 0.8207967877388, 0.8206164836883545, 0.8204905986785889, 0.8199936151504517, 0.8178582787513733, 0.8146131038665771, 0.8144043684005737, 0.8274431228637695, 0.29750216007232666, 0.29598528146743774, 0.2952713072299957, 0.2942405045032501, 0.29340860247612, 0.29284346103668213, 0.2927550971508026, 0.2918977439403534, 0.2915799915790558, 0.291307270526886, 0.2901720106601715, 0.29013460874557495, 0.289646714925766, 0.28936660289764404, 0.30266353487968445, 1.2975820302963257, 0.7837264537811279, 0.7819492220878601, 0.7816834449768066, 0.7812204957008362, 0.7811850309371948, 0.7801077365875244, 0.7798490524291992, 0.7795476317405701, 0.7787341475486755, 0.778650164604187, 0.7781140804290771, 0.7773247361183167, 0.7763466238975525, 0.7756692171096802, 0.7742299437522888, 0.7996770739555359, 0.28380078077316284, 0.283602774143219, 0.2805238962173462, 0.27849796414375305, 0.2780264616012573, 0.27790704369544983, 0.2777359187602997, 0.2773562967777252, 0.2772998511791229, 0.2757168114185333, 0.2755449712276459, 0.275078684091568, 0.2748482823371887, 0.3186021149158478, 0.31210091710090637], \"Term\": [\"taught\", \"one\", \"got\", \"thankful\", \"wish\", \"angel\", \"even\", \"pete\", \"could\", \"malcolm\", \"almost\", \"cause\", \"thank\", \"married\", \"look\", \"lost\", \"see\", \"loved\", \"laugh\", \"sean\", \"end\", \"listen\", \"match\", \"wrote\", \"thought\", \"love\", \"ricky\", \"songs\", \"amazing\", \"patience\", \"taught\", \"one\", \"laugh\", \"sean\", \"end\", \"listen\", \"match\", \"wrote\", \"thought\", \"love\", \"ricky\", \"songs\", \"amazing\", \"patience\", \"pain\", \"say\", \"loved\", \"see\", \"lost\", \"look\", \"married\", \"thank\", \"cause\", \"almost\", \"malcolm\", \"could\", \"pete\", \"even\", \"angel\", \"wish\", \"got\", \"got\", \"thankful\", \"wish\", \"angel\", \"even\", \"pete\", \"could\", \"malcolm\", \"almost\", \"cause\", \"thank\", \"married\", \"look\", \"lost\", \"see\", \"loved\", \"say\", \"pain\", \"patience\", \"amazing\", \"songs\", \"ricky\", \"love\", \"thought\", \"wrote\", \"match\", \"listen\", \"end\", \"sean\", \"laugh\", \"one\", \"taught\"], \"Total\": [2.0, 2.0, 1.0, 1.0, 1.0, 1.0, 1.0, 1.0, 1.0, 1.0, 1.0, 1.0, 1.0, 1.0, 1.0, 1.0, 1.0, 1.0, 1.0, 1.0, 1.0, 1.0, 1.0, 1.0, 1.0, 1.0, 1.0, 1.0, 1.0, 1.0, 2.210204601287842, 2.2098536491394043, 1.0986886024475098, 1.098676323890686, 1.0986510515213013, 1.0986417531967163, 1.0985562801361084, 1.0985532999038696, 1.0985326766967773, 1.098523497581482, 1.0985170602798462, 1.0984915494918823, 1.0983822345733643, 1.0982158184051514, 1.0982050895690918, 1.6271202564239502, 1.0717320442199707, 1.0716545581817627, 1.0716179609298706, 1.0715652704238892, 1.0715227127075195, 1.0714936256408691, 1.0714892148971558, 1.071445345878601, 1.0714290142059326, 1.0714149475097656, 1.071357011795044, 1.0713551044464111, 1.071330189704895, 1.0713157653808594, 1.6002455949783325, 1.6002455949783325, 1.0712199211120605, 1.0713157653808594, 1.071330189704895, 1.0713551044464111, 1.071357011795044, 1.0714149475097656, 1.0714290142059326, 1.071445345878601, 1.0714892148971558, 1.0714936256408691, 1.0715227127075195, 1.0715652704238892, 1.0716179609298706, 1.0716545581817627, 1.0717320442199707, 1.6271202564239502, 1.0982050895690918, 1.0982158184051514, 1.0983822345733643, 1.0984915494918823, 1.0985170602798462, 1.098523497581482, 1.0985326766967773, 1.0985532999038696, 1.0985562801361084, 1.0986417531967163, 1.0986510515213013, 1.098676323890686, 1.0986886024475098, 2.2098536491394043, 2.210204601287842], \"loglift\": [30.0, 29.0, 28.0, 27.0, 26.0, 25.0, 24.0, 23.0, 22.0, 21.0, 20.0, 19.0, 18.0, 17.0, 16.0, 15.0, 14.0, 13.0, 12.0, 11.0, 10.0, 9.0, 8.0, 7.0, 6.0, 5.0, 4.0, 3.0, 2.0, 1.0, 0.4912000000476837, 0.4878000020980835, 0.3555999994277954, 0.35530000925064087, 0.3546999990940094, 0.3544999957084656, 0.35260000824928284, 0.35249999165534973, 0.35199999809265137, 0.35179999470710754, 0.3517000079154968, 0.35109999775886536, 0.34860000014305115, 0.34470000863075256, 0.34450000524520874, -0.03280000016093254, -0.6381000280380249, -0.6431999802589417, -0.6456000208854675, -0.6489999890327454, -0.6517999768257141, -0.6536999940872192, -0.6539999842643738, -0.6568999886512756, -0.6579999923706055, -0.6589000225067139, -0.6626999974250793, -0.6628999710083008, -0.6644999980926514, -0.6654999852180481, -1.0218000411987305, 0.5357999801635742, 0.43290001153945923, 0.43059998750686646, 0.4302000105381012, 0.4296000003814697, 0.4296000003814697, 0.42809998989105225, 0.4277999997138977, 0.42739999294281006, 0.4262999892234802, 0.4262000024318695, 0.4255000054836273, 0.4244000017642975, 0.42309999465942383, 0.4221999943256378, 0.4203000068664551, 0.035100001841783524, -0.607699990272522, -0.6083999872207642, -0.6194999814033508, -0.6269000172615051, -0.628600001335144, -0.6290000081062317, -0.6295999884605408, -0.6309999823570251, -0.6312000155448914, -0.6370000243186951, -0.6377000212669373, -0.6394000053405762, -0.6402000188827515, -1.1913000345230103, -1.2121000289916992], \"logprob\": [30.0, 29.0, 28.0, 27.0, 26.0, 25.0, 24.0, 23.0, 22.0, 21.0, 20.0, 19.0, 18.0, 17.0, 16.0, 15.0, 14.0, 13.0, 12.0, 11.0, 10.0, 9.0, 8.0, 7.0, 6.0, 5.0, 4.0, 3.0, 2.0, 1.0, -2.353300094604492, -2.3568999767303467, -3.1879000663757324, -3.188199996948242, -3.188800096511841, -3.188999891281128, -3.190999984741211, -3.1910998821258545, -3.1916000843048096, -3.191800117492676, -3.191999912261963, -3.1926000118255615, -3.195199966430664, -3.199199914932251, -3.199399948120117, -3.183500051498413, -4.206500053405762, -4.211599826812744, -4.214000225067139, -4.21750020980835, -4.220300197601318, -4.2221999168396, -4.222499847412109, -4.225500106811523, -4.226600170135498, -4.227499961853027, -4.231400012969971, -4.231500148773193, -4.2332000732421875, -4.2342000007629395, -4.189300060272217, -2.631700038909912, -3.1359000205993652, -3.1380999088287354, -3.1384999752044678, -3.1391000747680664, -3.1391000747680664, -3.140500068664551, -3.1407999992370605, -3.141200065612793, -3.142199993133545, -3.142400026321411, -3.1429998874664307, -3.1440999507904053, -3.1452999114990234, -3.146199941635132, -3.1480000019073486, -3.1157000064849854, -4.151599884033203, -4.152299880981445, -4.163300037384033, -4.170499801635742, -4.1722002029418945, -4.172599792480469, -4.1732001304626465, -4.174600124359131, -4.174799919128418, -4.180500030517578, -4.18120002746582, -4.1828999519348145, -4.183700084686279, -4.035999774932861, -4.056600093841553]}, \"token.table\": {\"Topic\": [2, 1, 2, 2, 2, 1, 2, 2, 1, 1, 2, 2, 1, 2, 2, 2, 1, 1, 1, 1, 2, 1, 1, 2, 1, 2, 1, 1, 2, 2, 1, 2, 1], \"Freq\": [0.9333187341690063, 0.9104298949241638, 0.9334190487861633, 0.9332805275917053, 0.9333451986312866, 0.9102070927619934, 0.9333973526954651, 0.6249040961265564, 0.9101759791374207, 0.9102148413658142, 0.9332142472267151, 0.9331684112548828, 0.9103127717971802, 0.9330690503120422, 0.9333329200744629, 0.9332513213157654, 0.9102856516838074, 0.9050372838973999, 0.9105767011642456, 0.9105678200721741, 0.9333956837654114, 0.91031813621521, 0.6145827174186707, 0.6145827174186707, 0.9101861715316772, 0.933136522769928, 0.9103392958641052, 0.9048935770988464, 0.9332766532897949, 0.9335151314735413, 0.9103052020072937, 0.9334316253662109, 0.9102880954742432], \"Term\": [\"almost\", \"amazing\", \"angel\", \"cause\", \"could\", \"end\", \"even\", \"got\", \"laugh\", \"listen\", \"look\", \"lost\", \"love\", \"loved\", \"malcolm\", \"married\", \"match\", \"one\", \"pain\", \"patience\", \"pete\", \"ricky\", \"say\", \"say\", \"sean\", \"see\", \"songs\", \"taught\", \"thank\", \"thankful\", \"thought\", \"wish\", \"wrote\"]}, \"R\": 30, \"lambda.step\": 0.01, \"plot.opts\": {\"xlab\": \"PC1\", \"ylab\": \"PC2\"}, \"topic.order\": [2, 1]};\n",
       "\n",
       "function LDAvis_load_lib(url, callback){\n",
       "  var s = document.createElement('script');\n",
       "  s.src = url;\n",
       "  s.async = true;\n",
       "  s.onreadystatechange = s.onload = callback;\n",
       "  s.onerror = function(){console.warn(\"failed to load library \" + url);};\n",
       "  document.getElementsByTagName(\"head\")[0].appendChild(s);\n",
       "}\n",
       "\n",
       "if(typeof(LDAvis) !== \"undefined\"){\n",
       "   // already loaded: just create the visualization\n",
       "   !function(LDAvis){\n",
       "       new LDAvis(\"#\" + \"ldavis_el233451121218292004959682512\", ldavis_el233451121218292004959682512_data);\n",
       "   }(LDAvis);\n",
       "}else if(typeof define === \"function\" && define.amd){\n",
       "   // require.js is available: use it to load d3/LDAvis\n",
       "   require.config({paths: {d3: \"https://cdnjs.cloudflare.com/ajax/libs/d3/3.5.5/d3.min\"}});\n",
       "   require([\"d3\"], function(d3){\n",
       "      window.d3 = d3;\n",
       "      LDAvis_load_lib(\"https://cdn.rawgit.com/bmabey/pyLDAvis/files/ldavis.v1.0.0.js\", function(){\n",
       "        new LDAvis(\"#\" + \"ldavis_el233451121218292004959682512\", ldavis_el233451121218292004959682512_data);\n",
       "      });\n",
       "    });\n",
       "}else{\n",
       "    // require.js not available: dynamically load d3 & LDAvis\n",
       "    LDAvis_load_lib(\"https://cdnjs.cloudflare.com/ajax/libs/d3/3.5.5/d3.min.js\", function(){\n",
       "         LDAvis_load_lib(\"https://cdn.rawgit.com/bmabey/pyLDAvis/files/ldavis.v1.0.0.js\", function(){\n",
       "                 new LDAvis(\"#\" + \"ldavis_el233451121218292004959682512\", ldavis_el233451121218292004959682512_data);\n",
       "            })\n",
       "         });\n",
       "}\n",
       "</script>"
      ],
      "text/plain": [
       "PreparedData(topic_coordinates=              x    y  topics  cluster       Freq\n",
       "topic                                           \n",
       "1      0.067016  0.0       1        1  52.546738\n",
       "0     -0.067016  0.0       2        1  47.453262, topic_info=   Category      Freq      Term     Total  loglift  logprob\n",
       "27  Default  2.000000    taught  2.000000  30.0000  30.0000\n",
       "24  Default  2.000000       one  2.000000  29.0000  29.0000\n",
       "14  Default  1.000000       got  1.000000  28.0000  28.0000\n",
       "20  Default  1.000000  thankful  1.000000  27.0000  27.0000\n",
       "21  Default  1.000000      wish  1.000000  26.0000  26.0000\n",
       "..      ...       ...       ...       ...      ...      ...\n",
       "0    Topic2  0.275545       end  1.098651  -0.6377  -4.1812\n",
       "5    Topic2  0.275079      sean  1.098676  -0.6394  -4.1829\n",
       "1    Topic2  0.274848     laugh  1.098689  -0.6402  -4.1837\n",
       "24   Topic2  0.318602       one  2.209854  -1.1913  -4.0360\n",
       "27   Topic2  0.312101    taught  2.210205  -1.2121  -4.0566\n",
       "\n",
       "[93 rows x 6 columns], token_table=      Topic      Freq      Term\n",
       "term                           \n",
       "9         2  0.933319    almost\n",
       "22        1  0.910430   amazing\n",
       "10        2  0.933419     angel\n",
       "11        2  0.933281     cause\n",
       "12        2  0.933345     could\n",
       "0         1  0.910207       end\n",
       "13        2  0.933397      even\n",
       "14        2  0.624904       got\n",
       "1         1  0.910176     laugh\n",
       "2         1  0.910215    listen\n",
       "28        2  0.933214      look\n",
       "29        2  0.933168      lost\n",
       "23        1  0.910313      love\n",
       "30        2  0.933069     loved\n",
       "15        2  0.933333   malcolm\n",
       "16        2  0.933251   married\n",
       "3         1  0.910286     match\n",
       "24        1  0.905037       one\n",
       "25        1  0.910577      pain\n",
       "26        1  0.910568  patience\n",
       "17        2  0.933396      pete\n",
       "4         1  0.910318     ricky\n",
       "18        1  0.614583       say\n",
       "18        2  0.614583       say\n",
       "5         1  0.910186      sean\n",
       "31        2  0.933137       see\n",
       "6         1  0.910339     songs\n",
       "27        1  0.904894    taught\n",
       "19        2  0.933277     thank\n",
       "20        2  0.933515  thankful\n",
       "7         1  0.910305   thought\n",
       "21        2  0.933432      wish\n",
       "8         1  0.910288     wrote, R=30, lambda_step=0.01, plot_opts={'xlab': 'PC1', 'ylab': 'PC2'}, topic_order=[2, 1])"
      ]
     },
     "execution_count": 65,
     "metadata": {},
     "output_type": "execute_result"
    }
   ],
   "source": [
    "vis = pyLDAvis.gensim.prepare(ldamodel, corpus, dictionary=ldamodel.id2word)\n",
    "vis"
   ]
  },
  {
   "cell_type": "code",
   "execution_count": null,
   "metadata": {},
   "outputs": [],
   "source": []
  }
 ],
 "metadata": {
  "kernelspec": {
   "display_name": "Python 3",
   "language": "python",
   "name": "python3"
  },
  "language_info": {
   "codemirror_mode": {
    "name": "ipython",
    "version": 3
   },
   "file_extension": ".py",
   "mimetype": "text/x-python",
   "name": "python",
   "nbconvert_exporter": "python",
   "pygments_lexer": "ipython3",
   "version": "3.7.4"
  }
 },
 "nbformat": 4,
 "nbformat_minor": 2
}
